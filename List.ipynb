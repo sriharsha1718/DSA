{
  "nbformat": 4,
  "nbformat_minor": 0,
  "metadata": {
    "colab": {
      "provenance": [],
      "authorship_tag": "ABX9TyMK3wjacLNNqMbH7a7jmW6i",
      "include_colab_link": true
    },
    "kernelspec": {
      "name": "python3",
      "display_name": "Python 3"
    },
    "language_info": {
      "name": "python"
    }
  },
  "cells": [
    {
      "cell_type": "markdown",
      "metadata": {
        "id": "view-in-github",
        "colab_type": "text"
      },
      "source": [
        "<a href=\"https://colab.research.google.com/github/sriharsha1718/DSA/blob/main/List.ipynb\" target=\"_parent\"><img src=\"https://colab.research.google.com/assets/colab-badge.svg\" alt=\"Open In Colab\"/></a>"
      ]
    },
    {
      "cell_type": "code",
      "execution_count": null,
      "metadata": {
        "colab": {
          "base_uri": "https://localhost:8080/"
        },
        "id": "Hafdmu7pGOX8",
        "outputId": "2a5f2765-4c72-46a8-edda-5b9141ec1703"
      },
      "outputs": [
        {
          "output_type": "stream",
          "name": "stdout",
          "text": [
            "25.0\n",
            "43.333333333333336\n"
          ]
        }
      ],
      "source": [
        "#Given List find the average\n",
        "def avg(lst):\n",
        "  n = len(lst)\n",
        "  total = sum(lst)\n",
        "  avg = total/n\n",
        "  return avg\n",
        "\n",
        "l1 = [10, 20, 30, 40]\n",
        "print(avg(l1))\n",
        "\n",
        "l2 = [30, 60, 40]\n",
        "print(avg(l2))"
      ]
    },
    {
      "cell_type": "code",
      "source": [
        "#Given List seperate Even and odd numbers\n",
        "def even_odd(lst):\n",
        "  even = []\n",
        "  odd = []\n",
        "  for i in range(len(lst)):\n",
        "    if lst[i] % 2 == 0:\n",
        "      even.append(lst[i])\n",
        "    else:\n",
        "      odd.append(lst[i])\n",
        "  return even, odd\n",
        "\n",
        "l = [10, 41, 30, 15, 80]\n",
        "even, odd = even_odd(l)\n",
        "print('Even: {}'.format(even))\n",
        "print('Odd: {}'.format(odd))\n",
        "\n",
        "l = [10, 30, 40]\n",
        "even, odd = even_odd(l)\n",
        "print()\n",
        "print('Even: {}'.format(even))\n",
        "print('Odd: {}'.format(odd))"
      ],
      "metadata": {
        "colab": {
          "base_uri": "https://localhost:8080/"
        },
        "id": "9dgf8UQcHnBZ",
        "outputId": "8000c431-8fb5-459b-cefd-a1a5cfd21731"
      },
      "execution_count": null,
      "outputs": [
        {
          "output_type": "stream",
          "name": "stdout",
          "text": [
            "Even: [10, 30, 80]\n",
            "Odd: [41, 15]\n",
            "\n",
            "Even: [10, 30, 40]\n",
            "Odd: []\n"
          ]
        }
      ]
    },
    {
      "cell_type": "code",
      "source": [
        "#Get smaller elements than the given element\n",
        "def small(lst, x):\n",
        "  r = []\n",
        "  for i in range(len(lst)):\n",
        "    if lst[i] < x:\n",
        "      r.append(lst[i])\n",
        "  return r\n",
        "\n",
        "l = list(map(int, input('Enter the list: ').split()))\n",
        "x = int(input('Enter the element: '))\n",
        "print(small(l, x))"
      ],
      "metadata": {
        "colab": {
          "base_uri": "https://localhost:8080/"
        },
        "id": "A2s07tBdJb45",
        "outputId": "2794dc18-f1c2-4970-a3f9-1d7786e96c50"
      },
      "execution_count": null,
      "outputs": [
        {
          "output_type": "stream",
          "name": "stdout",
          "text": [
            "Enter the list: 8 100 20 40 3 7\n",
            "Enter the element: 10\n",
            "[8, 3, 7]\n"
          ]
        }
      ]
    },
    {
      "cell_type": "code",
      "source": [
        "#Slicing Lists\n",
        "l = [10, 20, 30, 40, 50]\n",
        "print(l[::-1])\n",
        "print(l[-2::-2])\n",
        "print(l[4:0:-1])"
      ],
      "metadata": {
        "colab": {
          "base_uri": "https://localhost:8080/"
        },
        "id": "I1yPMGKiLnCf",
        "outputId": "994181e3-7447-4b41-b4b2-8bea9de529a8"
      },
      "execution_count": null,
      "outputs": [
        {
          "output_type": "stream",
          "name": "stdout",
          "text": [
            "[50, 40, 30, 20, 10]\n",
            "[40, 20]\n",
            "[50, 40, 30, 20]\n"
          ]
        }
      ]
    },
    {
      "cell_type": "code",
      "source": [
        "#List Comprehension\n",
        "l1 = [x for x in range(11) if x % 2 == 0]\n",
        "print(l1)\n",
        "\n",
        "l2 = [x for x in range(11) if x % 2 != 0]\n",
        "print(l2)"
      ],
      "metadata": {
        "colab": {
          "base_uri": "https://localhost:8080/"
        },
        "id": "NHbx97SCMW4Y",
        "outputId": "7218ef41-2b59-458f-a66c-c9dc4db6ae3f"
      },
      "execution_count": null,
      "outputs": [
        {
          "output_type": "stream",
          "name": "stdout",
          "text": [
            "[0, 2, 4, 6, 8, 10]\n",
            "[1, 3, 5, 7, 9]\n"
          ]
        }
      ]
    },
    {
      "cell_type": "code",
      "source": [
        "#Dictionary using two lists\n",
        "l1 = [1, 2, 3, 4, 5]\n",
        "l2 = ['A', 'B', 'C', 'D', 'E']\n",
        "print(dict(zip(l1, l2)))"
      ],
      "metadata": {
        "colab": {
          "base_uri": "https://localhost:8080/"
        },
        "id": "tBx7Hx6lN6UZ",
        "outputId": "a65f98bf-31ec-4afc-d983-75a0486dcd74"
      },
      "execution_count": null,
      "outputs": [
        {
          "output_type": "stream",
          "name": "stdout",
          "text": [
            "{1: 'A', 2: 'B', 3: 'C', 4: 'D', 5: 'E'}\n"
          ]
        }
      ]
    },
    {
      "cell_type": "code",
      "source": [
        "#Largest Element in the list\n",
        "def large(lst):\n",
        "  if lst == []:\n",
        "    return None\n",
        "  x = lst[0]\n",
        "  for i in range(len(lst)):\n",
        "    if lst[i] > x:\n",
        "      x = lst[i]\n",
        "  return x\n",
        "\n",
        "l = [10, 20, 5, 50]\n",
        "print(large(l))"
      ],
      "metadata": {
        "colab": {
          "base_uri": "https://localhost:8080/"
        },
        "id": "ZoQEihteaQrI",
        "outputId": "60fc458e-a6e3-493f-d257-ac9087baaf41"
      },
      "execution_count": null,
      "outputs": [
        {
          "output_type": "stream",
          "name": "stdout",
          "text": [
            "50\n"
          ]
        }
      ]
    },
    {
      "cell_type": "code",
      "source": [
        "#Second largest element in the list\n",
        "def second(lst):\n",
        "  s = list(set(lst))\n",
        "  s.sort(reverse=True)\n",
        "  if len(s)<=1:\n",
        "    return None\n",
        "  return s[1]\n",
        "\n",
        "l = [10, 5, 8, 20]\n",
        "print(second(l))\n",
        "\n",
        "l1 = [20, 10, 20, 8, 12]\n",
        "print(second(l1))\n",
        "\n",
        "l2 = [20, 20 , 20]\n",
        "print(second(l2))"
      ],
      "metadata": {
        "colab": {
          "base_uri": "https://localhost:8080/"
        },
        "id": "Bj3a7CCdetyQ",
        "outputId": "5c3f77a6-84f1-4037-d568-b6f96b4eb3ef"
      },
      "execution_count": null,
      "outputs": [
        {
          "output_type": "stream",
          "name": "stdout",
          "text": [
            "10\n",
            "12\n",
            "None\n"
          ]
        }
      ]
    },
    {
      "cell_type": "code",
      "source": [
        "#Check if a list is sorted\n",
        "def is_sort(lst):\n",
        "  if len(lst)<=1:\n",
        "    return 'yes'\n",
        "  for i in range(len(lst)-1):\n",
        "    if lst[i] <= lst[i+1]:\n",
        "      pass\n",
        "    else:\n",
        "      return 'no'\n",
        "  return 'yes'\n",
        "\n",
        "l = [10, 20, 20, 30]\n",
        "print(is_sort(l))\n",
        "\n",
        "l1 = [10, 5, 2]\n",
        "print(is_sort(l1))\n",
        "\n",
        "l = []\n",
        "print(is_sort(l))\n",
        "\n",
        "l = [10, 20, 30, 15, 40]\n",
        "print(is_sort(l))"
      ],
      "metadata": {
        "colab": {
          "base_uri": "https://localhost:8080/"
        },
        "id": "FTnAGPXrhluX",
        "outputId": "61e785f5-62a0-45af-c8fe-1b60c1d1934c"
      },
      "execution_count": null,
      "outputs": [
        {
          "output_type": "stream",
          "name": "stdout",
          "text": [
            "yes\n",
            "no\n",
            "yes\n",
            "no\n"
          ]
        }
      ]
    },
    {
      "cell_type": "code",
      "source": [
        "#Reverse the List\n",
        "def reverseL(lst):\n",
        "  res = []\n",
        "  i = len(lst)-1\n",
        "  while i>=0:\n",
        "    res.append(lst[i])\n",
        "    i = i-1\n",
        "  return res\n",
        "\n",
        "l = [10, 20, 30]\n",
        "l.reverse()\n",
        "print(l)\n",
        "\n",
        "l1 = [10, 20, 30]\n",
        "print(reverseL(l1))\n",
        "\n",
        "l2 = []\n",
        "print(reverseL(l2))"
      ],
      "metadata": {
        "colab": {
          "base_uri": "https://localhost:8080/"
        },
        "id": "ssu_xZfVkY41",
        "outputId": "13aeef74-9196-4265-869e-ba025ae590f5"
      },
      "execution_count": null,
      "outputs": [
        {
          "output_type": "stream",
          "name": "stdout",
          "text": [
            "[30, 20, 10]\n",
            "[30, 20, 10]\n",
            "[]\n"
          ]
        }
      ]
    },
    {
      "cell_type": "code",
      "source": [
        "#Reversing a list using two pointers approach\n",
        "def reverseL(lst):\n",
        "  n = len(lst)\n",
        "  s = 0\n",
        "  e = n-1\n",
        "  while s<e:\n",
        "    lst[s], lst[e] = lst[e], lst[s]\n",
        "    s = s+1\n",
        "    e = e-1\n",
        "  return lst\n",
        "\n",
        "l = [10, 20, 30]\n",
        "print(reverseL(l))\n",
        "\n",
        "l = [10, 20, 30, 40]\n",
        "print(reverseL(l))"
      ],
      "metadata": {
        "colab": {
          "base_uri": "https://localhost:8080/"
        },
        "id": "knPTWMH7gLyO",
        "outputId": "a60d952f-c571-4e19-d58d-8cb563e6857c"
      },
      "execution_count": null,
      "outputs": [
        {
          "output_type": "stream",
          "name": "stdout",
          "text": [
            "[30, 20, 10]\n",
            "[40, 30, 20, 10]\n"
          ]
        }
      ]
    },
    {
      "cell_type": "code",
      "source": [
        "#Remove the duplicates from the list\n",
        "def removeDuplicates(lst):\n",
        "  n = len(lst)\n",
        "  res = 1\n",
        "  for i in range(1, n):\n",
        "    if lst[res-1]!=lst[i]:\n",
        "      lst[res] = lst[i]\n",
        "      res=res+1\n",
        "  return lst\n",
        "\n",
        "\n",
        "l = [10, 20, 20, 30, 30, 30, 30]\n",
        "print(removeDuplicates(l))\n",
        "\n",
        "l = [10, 10, 10, 20, 20, 20]\n",
        "print(removeDuplicates(l))"
      ],
      "metadata": {
        "colab": {
          "base_uri": "https://localhost:8080/"
        },
        "id": "o1gXKbmghRje",
        "outputId": "6a495b6e-7438-488b-b48f-27a28fe474da"
      },
      "execution_count": null,
      "outputs": [
        {
          "output_type": "stream",
          "name": "stdout",
          "text": [
            "[10, 20, 30, 30, 30, 30, 30]\n",
            "[10, 20, 10, 20, 20, 20]\n"
          ]
        }
      ]
    },
    {
      "cell_type": "code",
      "source": [
        "def rotate(lst):\n",
        "  n = len(lst)\n",
        "  x = lst[0]\n",
        "  for i in range(1,n):\n",
        "    lst[i-1] = lst[i]\n",
        "  lst[n-1] = x\n",
        "  return lst\n",
        "\n",
        "l = [10, 20, 30]\n",
        "print(rotate(l))"
      ],
      "metadata": {
        "colab": {
          "base_uri": "https://localhost:8080/"
        },
        "id": "7Ptcg5qdnZnB",
        "outputId": "5b431c0f-94c7-4922-a845-e96d6fd3b92e"
      },
      "execution_count": null,
      "outputs": [
        {
          "output_type": "stream",
          "name": "stdout",
          "text": [
            "[20, 30, 10]\n"
          ]
        }
      ]
    }
  ]
}